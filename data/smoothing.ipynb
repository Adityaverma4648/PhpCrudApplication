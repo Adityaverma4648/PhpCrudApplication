{
 "cells": [
  {
   "cell_type": "code",
   "execution_count": 5,
   "metadata": {},
   "outputs": [
    {
     "name": "stdout",
     "output_type": "stream",
     "text": [
      "Sr No                              0\n",
      " Blood Bank Name                   0\n",
      " State                             0\n",
      " District                          1\n",
      " City                             20\n",
      " Address                          69\n",
      "Pincode                          172\n",
      " Contact No                      299\n",
      " Mobile                          674\n",
      " Helpline                       2614\n",
      " Fax                            2329\n",
      " Email                          1266\n",
      " Website                        2239\n",
      " Nodal Officer                   586\n",
      " Contact Nodal Officer          1501\n",
      " Mobile Nodal Officer            683\n",
      " Email Nodal Officer             832\n",
      " Qualification Nodal Officer     972\n",
      " Category                         79\n",
      " Blood Component Available       418\n",
      " Apheresis                       768\n",
      " Service Time                    402\n",
      " License #                       594\n",
      " Date License Obtained           698\n",
      " Date of Renewal                 680\n",
      " Latitude                          0\n",
      " Longitude                         0\n",
      "dtype: int64\n"
     ]
    }
   ],
   "source": [
    "import numpy as np\n",
    "import pandas as pd\n",
    "\n",
    "df = pd.read_csv(\"./blood-banks.csv\", encoding='cp1252')\n",
    "print(np.sum(df.isnull()))"
   ]
  },
  {
   "cell_type": "code",
   "execution_count": null,
   "metadata": {},
   "outputs": [],
   "source": []
  }
 ],
 "metadata": {
  "kernelspec": {
   "display_name": "Python 3",
   "language": "python",
   "name": "python3"
  },
  "language_info": {
   "codemirror_mode": {
    "name": "ipython",
    "version": 3
   },
   "file_extension": ".py",
   "mimetype": "text/x-python",
   "name": "python",
   "nbconvert_exporter": "python",
   "pygments_lexer": "ipython3",
   "version": "3.10.6"
  },
  "orig_nbformat": 4,
  "vscode": {
   "interpreter": {
    "hash": "26de051ba29f2982a8de78e945f0abaf191376122a1563185a90213a26c5da77"
   }
  }
 },
 "nbformat": 4,
 "nbformat_minor": 2
}
